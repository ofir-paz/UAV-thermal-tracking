{
 "cells": [
  {
   "cell_type": "code",
   "execution_count": null,
   "id": "913a7753",
   "metadata": {},
   "outputs": [],
   "source": [
    "from pathlib import Path\n",
    "import cv2\n",
    "from video_player import (\n",
    "    Video, \n",
    "    JupyterPlayer, \n",
    "    load_bounding_boxes_from_csv, \n",
    "    canny_edge_detector,\n",
    "    DesktopPlayer\n",
    ")"
   ]
  },
  {
   "cell_type": "code",
   "execution_count": null,
   "id": "9f67f47c",
   "metadata": {},
   "outputs": [],
   "source": [
    "video_path = str(Path().resolve().parent.parent / \"testing\" / \"resources\" / \"sample.mp4\")\n",
    "annotations_path = str(Path().resolve().parent.parent / \"testing\" / \"resources\" / \"annotations.csv\")\n",
    "output_path = str(Path().resolve().parent.parent / \"testing\" / \"output\")"
   ]
  },
  {
   "cell_type": "code",
   "execution_count": null,
   "id": "6857e330",
   "metadata": {},
   "outputs": [],
   "source": [
    "def get_jupyter_player():\n",
    "    \"\"\"Returns a configured JupyterPlayer instance for interactive use.\"\"\"\n",
    "    video = Video(video_path)\n",
    "    \n",
    "    # Add named transformations\n",
    "    video.add_transform(name=\"Canny Edges\", transform_func=canny_edge_detector())\n",
    "    video.add_transform(name=\"Threshold\", transform_func=lambda frame: cv2.threshold(frame, 127, 255, cv2.THRESH_BINARY)[1])\n",
    "    video.add_transform(name=\"resize\", transform_func=lambda frame: cv2.resize(frame, (960 // 2, 540 // 2)))\n",
    "\n",
    "    # Load bounding boxes from the CSV file with a specific overlay name\n",
    "    overlays = load_bounding_boxes_from_csv(annotations_path, overlay_name=\"CSV Boxes\")\n",
    "    video.add_overlays(overlays)\n",
    "\n",
    "    # Instantiate and return the JupyterPlayer\n",
    "    player = JupyterPlayer(video)\n",
    "    return player\n",
    "\n",
    "player = get_jupyter_player()\n",
    "player.show()  # Display the player in Jupyter Notebook"
   ]
  },
  {
   "cell_type": "code",
   "execution_count": null,
   "id": "6a3af6e6",
   "metadata": {},
   "outputs": [],
   "source": [
    "def get_player():\n",
    "    \"\"\"Returns a configured JupyterPlayer instance for interactive use.\"\"\"\n",
    "    video = Video(video_path)\n",
    "    \n",
    "    # Add named transformations\n",
    "    video.add_transform(name=\"Canny Edges\", transform_func=canny_edge_detector())\n",
    "    video.add_transform(name=\"Threshold\", transform_func=lambda frame: cv2.threshold(frame, 127, 255, cv2.THRESH_BINARY)[1])\n",
    "    video.add_transform(name=\"resize\", transform_func=lambda frame: cv2.resize(frame, (960 // 2, 540 // 2)))\n",
    "\n",
    "    # Load bounding boxes from the CSV file with a specific overlay name\n",
    "    overlays = load_bounding_boxes_from_csv(annotations_path, overlay_name=\"CSV Boxes\")\n",
    "    video.add_overlays(overlays)\n",
    "\n",
    "    # Instantiate and return the JupyterPlayer\n",
    "    player = DesktopPlayer(video)\n",
    "    return player\n",
    "\n",
    "normal_player = get_player()\n",
    "normal_player.show()  # Display the player in Jupyter Notebook"
   ]
  },
  {
   "cell_type": "code",
   "execution_count": null,
   "id": "891c2afd",
   "metadata": {},
   "outputs": [],
   "source": [
    "import numpy as np\n",
    "from video_streamer import Streamer\n",
    "\n",
    "streamer = Streamer(video_path)\n",
    "frames = []\n",
    "for chunk in streamer.stream(start=0, end=10, chunk_size=5, overlap=0, unit=\"seconds\"):\n",
    "    print(f\"Chunk: {chunk.start} to {chunk.end}, Frames: {len(chunk.frames)}\")\n",
    "    frames.extend(chunk.frames)\n",
    "\n",
    "frames = np.array(frames)"
   ]
  }
 ],
 "metadata": {
  "kernelspec": {
   "display_name": ".venv (3.11.6)",
   "language": "python",
   "name": "python3"
  },
  "language_info": {
   "codemirror_mode": {
    "name": "ipython",
    "version": 3
   },
   "file_extension": ".py",
   "mimetype": "text/x-python",
   "name": "python",
   "nbconvert_exporter": "python",
   "pygments_lexer": "ipython3",
   "version": "3.11.6"
  }
 },
 "nbformat": 4,
 "nbformat_minor": 5
}
