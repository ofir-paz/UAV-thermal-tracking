{
 "cells": [
  {
   "cell_type": "markdown",
   "id": "16cdc9fa",
   "metadata": {},
   "source": [
    "# Vision Introduction: UAV Thermal Tracking"
   ]
  },
  {
   "cell_type": "markdown",
   "id": "9ffc14c7",
   "metadata": {},
   "source": [
    "This notebook provides a solution for the UAV thermal tracking project, focusing on video streaming and processing using OpenCV."
   ]
  },
  {
   "cell_type": "markdown",
   "id": "f15e8489",
   "metadata": {},
   "source": [
    "## Imports"
   ]
  },
  {
   "cell_type": "code",
   "execution_count": null,
   "id": "8b169ace",
   "metadata": {},
   "outputs": [],
   "source": [
    "import cv2 as cv\n",
    "import numpy as np\n",
    "from video_streamer import Streamer\n",
    "from video_player import JupyterPlayer, DesktopPlayer, Video\n",
    "from config import VideosConfig"
   ]
  },
  {
   "cell_type": "markdown",
   "id": "2a79e70c",
   "metadata": {},
   "source": [
    "## Algorithm Layers"
   ]
  },
  {
   "cell_type": "code",
   "execution_count": null,
   "id": "4cfd74c7",
   "metadata": {},
   "outputs": [],
   "source": [
    "video = Video(VideosConfig.TRAIN_VIDEO)\n",
    "streamer = Streamer(VideosConfig.TRAIN_VIDEO)"
   ]
  }
 ],
 "metadata": {
  "kernelspec": {
   "display_name": ".venv (3.11.6)",
   "language": "python",
   "name": "python3"
  },
  "language_info": {
   "name": "python",
   "version": "3.11.6"
  }
 },
 "nbformat": 4,
 "nbformat_minor": 5
}
