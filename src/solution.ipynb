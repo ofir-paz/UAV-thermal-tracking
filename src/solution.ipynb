{
 "cells": [
  {
   "cell_type": "markdown",
   "id": "16cdc9fa",
   "metadata": {},
   "source": [
    "# Vision Introduction: UAV Thermal Tracking"
   ]
  },
  {
   "cell_type": "markdown",
   "id": "9ffc14c7",
   "metadata": {},
   "source": [
    "This notebook provides a solution for the UAV thermal tracking project, focusing on video streaming and processing using OpenCV."
   ]
  },
  {
   "cell_type": "markdown",
   "id": "f15e8489",
   "metadata": {},
   "source": [
    "## Imports"
   ]
  },
  {
   "cell_type": "code",
   "execution_count": null,
   "id": "8b169ace",
   "metadata": {},
   "outputs": [],
   "source": [
    "from typing import List, Tuple, Optional, Deque\n",
    "from collections import deque\n",
    "import cv2 as cv\n",
    "import numpy as np\n",
    "from video_streamer import Streamer\n",
    "from video_player import JupyterPlayer, DesktopPlayer, Video, Point, Line, np_to_overlay_items, OverlayItem\n",
    "from layers import OpticalFlowLambda\n",
    "from config import VideosConfig, OUTPUT_DIR, pjoin"
   ]
  },
  {
   "cell_type": "markdown",
   "id": "2a79e70c",
   "metadata": {},
   "source": [
    "## Algorithm Layers"
   ]
  },
  {
   "cell_type": "code",
   "execution_count": null,
   "id": "26815178",
   "metadata": {},
   "outputs": [],
   "source": [
    "flow_overlay = OpticalFlowLambda()\n",
    "\n",
    "video = Video(VideosConfig.TRAIN_VIDEO, grayscale=True)\n",
    "video.add_transform(\"Resize\", lambda frame: cv.resize(frame, (800, 640)))\n",
    "video.add_online_overlay(\n",
    "    name=\"Optical Flow\",\n",
    "    overlay_func=flow_overlay\n",
    ")\n",
    "#video.save_video(output_path=pjoin(OUTPUT_DIR, \"optical_flow_demo\", \"output.mp4\"))\n",
    "\n",
    "desktop_player = DesktopPlayer(video, output_dir=pjoin(OUTPUT_DIR, \"optical_flow_demo\"))\n",
    "desktop_player.show()"
   ]
  }
 ],
 "metadata": {
  "kernelspec": {
   "display_name": ".venv (3.11.6)",
   "language": "python",
   "name": "python3"
  },
  "language_info": {
   "codemirror_mode": {
    "name": "ipython",
    "version": 3
   },
   "file_extension": ".py",
   "mimetype": "text/x-python",
   "name": "python",
   "nbconvert_exporter": "python",
   "pygments_lexer": "ipython3",
   "version": "3.11.6"
  }
 },
 "nbformat": 4,
 "nbformat_minor": 5
}
