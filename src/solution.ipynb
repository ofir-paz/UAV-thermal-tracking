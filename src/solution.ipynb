{
 "cells": [
  {
   "cell_type": "markdown",
   "id": "16cdc9fa",
   "metadata": {},
   "source": [
    "# Vision Introduction: UAV Thermal Tracking"
   ]
  },
  {
   "cell_type": "markdown",
   "id": "9ffc14c7",
   "metadata": {},
   "source": [
    "This notebook provides a solution for the UAV thermal tracking project, focusing on video streaming and processing using OpenCV."
   ]
  },
  {
   "cell_type": "markdown",
   "id": "f15e8489",
   "metadata": {},
   "source": [
    "## Imports"
   ]
  },
  {
   "cell_type": "code",
   "execution_count": null,
   "id": "8b169ace",
   "metadata": {},
   "outputs": [],
   "source": [
    "import cv2 as cv\n",
    "import numpy as np\n",
    "from video_streamer import Streamer\n",
    "from video_player import JupyterPlayer, DesktopPlayer, Video, Point, np_to_overlay_items\n",
    "from config import VideosConfig"
   ]
  },
  {
   "cell_type": "markdown",
   "id": "2a79e70c",
   "metadata": {},
   "source": [
    "## Algorithm Layers"
   ]
  },
  {
   "cell_type": "code",
   "execution_count": null,
   "id": "4cfd74c7",
   "metadata": {},
   "outputs": [],
   "source": [
    "video = Video(VideosConfig.TRAIN_VIDEO, grayscale=True)\n",
    "streamer = Streamer(VideosConfig.TRAIN_VIDEO, grayscale=True)"
   ]
  },
  {
   "cell_type": "code",
   "execution_count": null,
   "id": "2bca215c",
   "metadata": {},
   "outputs": [],
   "source": [
    "frames = []\n",
    "for chunk in streamer.stream(start=0, end=10, chunk_size=5, overlap=0, unit=\"seconds\"):\n",
    "    print(f\"Chunk: {chunk.start} to {chunk.end}, Frames: {len(chunk.frames)}\")\n",
    "    frames.extend(chunk.frames)\n",
    "\n",
    "frames = np.array(frames)"
   ]
  },
  {
   "cell_type": "code",
   "execution_count": null,
   "id": "26815178",
   "metadata": {},
   "outputs": [],
   "source": [
    "#video.add_transform(\"Greyscale\", lambda frame: cv.cvtColor(frame, cv.COLOR_BGR2GRAY))\n",
    "video = Video(VideosConfig.TRAIN_VIDEO, grayscale=True)\n",
    "video.add_transform(\"Resize\", lambda frame: cv.resize(frame, (620, 480)))\n",
    "video.add_online_overlay(\n",
    "    name=\"Features\", \n",
    "    overlay_func=lambda frame: np_to_overlay_items(\n",
    "        cv.goodFeaturesToTrack(frame, maxCorners=50, qualityLevel=0.01, minDistance=10, blockSize=3),\n",
    "        overlay_item=Point,\n",
    "        color=(255, 0, 0)\n",
    "    ),\n",
    ")\n",
    "\n",
    "desktop_player = JupyterPlayer(video)\n",
    "desktop_player.show()"
   ]
  }
 ],
 "metadata": {
  "kernelspec": {
   "display_name": ".venv (3.11.6)",
   "language": "python",
   "name": "python3"
  },
  "language_info": {
   "codemirror_mode": {
    "name": "ipython",
    "version": 3
   },
   "file_extension": ".py",
   "mimetype": "text/x-python",
   "name": "python",
   "nbconvert_exporter": "python",
   "pygments_lexer": "ipython3",
   "version": "3.11.6"
  }
 },
 "nbformat": 4,
 "nbformat_minor": 5
}
