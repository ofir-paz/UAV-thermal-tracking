{
 "cells": [
  {
   "cell_type": "code",
   "execution_count": null,
   "id": "913a7753",
   "metadata": {},
   "outputs": [],
   "source": [
    "import cv2\n",
    "from video_framework import (\n",
    "    Video, \n",
    "    JupyterPlayer, \n",
    "    load_bounding_boxes_from_csv, \n",
    "    canny_edge_detector,\n",
    "    DesktopPlayer\n",
    ")"
   ]
  },
  {
   "cell_type": "code",
   "execution_count": null,
   "id": "6857e330",
   "metadata": {},
   "outputs": [],
   "source": [
    "def get_jupyter_player():\n",
    "    \"\"\"Returns a configured JupyterPlayer instance for interactive use.\"\"\"\n",
    "    video_path = \"../testing/resources/sample.mp4\"\n",
    "    annotations_path = \"../testing/resources/annotations.csv\"\n",
    "\n",
    "    video = Video(video_path)\n",
    "    \n",
    "    # Add named transformations\n",
    "    video.add_transform(name=\"Canny Edges\", transform_func=canny_edge_detector())\n",
    "    video.add_transform(name=\"resize\", transform_func=lambda frame: cv2.resize(frame, (960 // 2, 540 // 2)))\n",
    "\n",
    "    # Load bounding boxes from the CSV file with a specific overlay name\n",
    "    overlays = load_bounding_boxes_from_csv(annotations_path, overlay_name=\"CSV Boxes\")\n",
    "    video.add_overlays(overlays)\n",
    "\n",
    "    # Instantiate and return the JupyterPlayer\n",
    "    player = JupyterPlayer(video)\n",
    "    return player\n",
    "\n",
    "player = get_jupyter_player()\n",
    "player.show()  # Display the player in Jupyter Notebook"
   ]
  },
  {
   "cell_type": "code",
   "execution_count": null,
   "id": "6a3af6e6",
   "metadata": {},
   "outputs": [],
   "source": [
    "def get_player():\n",
    "    \"\"\"Returns a configured JupyterPlayer instance for interactive use.\"\"\"\n",
    "    video_path = \"../testing/resources/sample.mp4\"\n",
    "    annotations_path = \"../testing/resources/annotations.csv\"\n",
    "\n",
    "    video = Video(video_path)\n",
    "    \n",
    "    # Add named transformations\n",
    "    video.add_transform(name=\"Canny Edges\", transform_func=canny_edge_detector())\n",
    "    video.add_transform(name=\"resize\", transform_func=lambda frame: cv2.resize(frame, (960 // 2, 540 // 2)))\n",
    "\n",
    "    # Load bounding boxes from the CSV file with a specific overlay name\n",
    "    overlays = load_bounding_boxes_from_csv(annotations_path, overlay_name=\"CSV Boxes\")\n",
    "    video.add_overlays(overlays)\n",
    "\n",
    "    # Instantiate and return the JupyterPlayer\n",
    "    player = DesktopPlayer(video)\n",
    "    return player\n",
    "\n",
    "normal_player = get_player()\n",
    "normal_player.show()  # Display the player in Jupyter Notebook"
   ]
  }
 ],
 "metadata": {
  "kernelspec": {
   "display_name": ".venv (3.11.6)",
   "language": "python",
   "name": "python3"
  },
  "language_info": {
   "codemirror_mode": {
    "name": "ipython",
    "version": 3
   },
   "file_extension": ".py",
   "mimetype": "text/x-python",
   "name": "python",
   "nbconvert_exporter": "python",
   "pygments_lexer": "ipython3",
   "version": "3.11.6"
  }
 },
 "nbformat": 4,
 "nbformat_minor": 5
}
